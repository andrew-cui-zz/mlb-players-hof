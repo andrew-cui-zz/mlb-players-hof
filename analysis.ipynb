{
 "cells": [
  {
   "cell_type": "markdown",
   "metadata": {},
   "source": [
    "# MLB Hall of Fame\n",
    "\n",
    "Usng Lahman's Baseball Database to predict which players will be inducted into the MLB Hall of Fame. Data visualization and analysis of current hall of famers and future prospects.\n",
    "\n",
    "#### Dataset sources:   \n",
    "Sean Lahman, Lahman's Baseball Database: [MLB_Kaggle](https://www.kaggle.com/seanlahman/the-history-of-baseball/data)\n",
    "\n",
    "We limit ourselves to the following .csv files in this analysis:\n",
    "- `all_star.csv`: All-Star appearances\n",
    "- `batting.csv` and `pitching.csv`: Batting data and pitching data, used to evaluate player value for HOF candidacy\n",
    "- `player_award_vote.csv`: MVP, Cy Young, and other votes\n",
    "- `hall_of_fame.csv`: Response variable, induction into HOF\n",
    "- `player.csv`: Dataset of player information to match up names, etc."
   ]
  },
  {
   "cell_type": "code",
   "execution_count": 1,
   "metadata": {},
   "outputs": [],
   "source": [
    "# import packages and data\n",
    "import pandas as pd, numpy as np, matplotlib.pyplot as plt, seaborn as sns\n",
    "%matplotlib inline\n",
    "\n",
    "# block warnings\n",
    "import warnings\n",
    "warnings.filterwarnings(\"ignore\")\n",
    "\n",
    "# players\n",
    "players = pd.read_csv('model_data/players_df.csv')\n",
    "pitchers = pd.read_csv('model_data/pitchers.csv')\n",
    "pitching_metrics = pd.read_csv('model_data/pitching_hof.csv')\n",
    "hof_vote = pd.read_csv('data/hall_of_fame.csv')\n",
    "\n",
    "# pitching predictions\n",
    "pitch_active = pd.read_csv('predict/pitchers-active.csv')\n",
    "pitch_historical = pd.read_csv('predict/pitchers-historical.csv')\n",
    "\n",
    "for i in [players, pitch_historical, pitch_active, pitchers, pitching_metrics, hof_vote]:\n",
    "    i.set_index('player_id', inplace = True)"
   ]
  },
  {
   "cell_type": "markdown",
   "metadata": {},
   "source": [
    "## Summary of methodology\n",
    "We looked at batting and pitching data separately for players. We only considered pitching data for pitchers; batting data for hitters - and did not include fielding data on the heuristic that a player is rarely selected for the Hall of Fame purely on fielding play. Postseason data was also not included, but would have been beneficial to look at. Only BBWAA voting for the Hall of Fame was considered, meaning special elections or veterans elections would be marked as \"0\" in the inducted phase. \n",
    "\n",
    "We added aggregate metrics to each of these datasets: percentage of All-Star seasons, MVP awards, Cy Young awards, and certain milestones such as 3000 strikeouts/hits, 500 HR, 300 W/SV, respectively - this is in addition to batting average, ERA, etc. that are the more traditional season-to-season data points.\n",
    "\n",
    "We reduced the datasets by several components to the statistics that would influence that type of player (ex: not looking at earned runs allowed by a pitcher, but rather ERA), then standard-scaled and ran PCA on each dataset. We set cutoffs at 95% of explained variance. Afterwards, we ran a series of regression and decision models - relatively simple ones - to identify the ideal model performance. This was done with a `random_state = 19` for consistency.\n",
    "\n",
    "With pitchers, we came to a single-bagged depth-4 Decision Tree; for hitters, the model is currently incomplete. \n",
    "\n",
    "Overall, we received strong accuracy on the pitching dataset, but some compromises in predictive ability. However, there is less of an ability to forecast this, given how Trevor Hoffman is the only pitcher in our dataset who has been inducted since the end of the dataset. Others are likely to come in future seasons, however.\n",
    "\n",
    "Here, we analyze the errors and visualize some of the differences between players in our datasets."
   ]
  },
  {
   "cell_type": "markdown",
   "metadata": {},
   "source": [
    "### Pitchers: preparation\n",
    "Historical data mispredictions in both training and test sets."
   ]
  },
  {
   "cell_type": "code",
   "execution_count": 2,
   "metadata": {},
   "outputs": [
    {
     "data": {
      "text/html": [
       "<div>\n",
       "<style scoped>\n",
       "    .dataframe tbody tr th:only-of-type {\n",
       "        vertical-align: middle;\n",
       "    }\n",
       "\n",
       "    .dataframe tbody tr th {\n",
       "        vertical-align: top;\n",
       "    }\n",
       "\n",
       "    .dataframe thead th {\n",
       "        text-align: right;\n",
       "    }\n",
       "</style>\n",
       "<table border=\"1\" class=\"dataframe\">\n",
       "  <thead>\n",
       "    <tr style=\"text-align: right;\">\n",
       "      <th></th>\n",
       "      <th>inducted</th>\n",
       "      <th>predicted</th>\n",
       "      <th>name</th>\n",
       "    </tr>\n",
       "    <tr>\n",
       "      <th>player_id</th>\n",
       "      <th></th>\n",
       "      <th></th>\n",
       "      <th></th>\n",
       "    </tr>\n",
       "  </thead>\n",
       "  <tbody>\n",
       "    <tr>\n",
       "      <th>pennohe01</th>\n",
       "      <td>1.0</td>\n",
       "      <td>0.0</td>\n",
       "      <td>Herb Pennock</td>\n",
       "    </tr>\n",
       "    <tr>\n",
       "      <th>bunniji01</th>\n",
       "      <td>0.0</td>\n",
       "      <td>1.0</td>\n",
       "      <td>Jim Bunning</td>\n",
       "    </tr>\n",
       "    <tr>\n",
       "      <th>passecl01</th>\n",
       "      <td>0.0</td>\n",
       "      <td>1.0</td>\n",
       "      <td>Claude Passeau</td>\n",
       "    </tr>\n",
       "    <tr>\n",
       "      <th>stottme01</th>\n",
       "      <td>0.0</td>\n",
       "      <td>1.0</td>\n",
       "      <td>Mel Stottlemyre</td>\n",
       "    </tr>\n",
       "    <tr>\n",
       "      <th>lyonste01</th>\n",
       "      <td>1.0</td>\n",
       "      <td>0.0</td>\n",
       "      <td>Ted Lyons</td>\n",
       "    </tr>\n",
       "    <tr>\n",
       "      <th>stiebda01</th>\n",
       "      <td>0.0</td>\n",
       "      <td>1.0</td>\n",
       "      <td>Dave Stieb</td>\n",
       "    </tr>\n",
       "    <tr>\n",
       "      <th>wadderu01</th>\n",
       "      <td>0.0</td>\n",
       "      <td>1.0</td>\n",
       "      <td>Rube Waddell</td>\n",
       "    </tr>\n",
       "    <tr>\n",
       "      <th>tiantlu01</th>\n",
       "      <td>0.0</td>\n",
       "      <td>1.0</td>\n",
       "      <td>Luis Tiant</td>\n",
       "    </tr>\n",
       "    <tr>\n",
       "      <th>vanceda01</th>\n",
       "      <td>1.0</td>\n",
       "      <td>0.0</td>\n",
       "      <td>Dazzy Vance</td>\n",
       "    </tr>\n",
       "    <tr>\n",
       "      <th>lolicmi01</th>\n",
       "      <td>0.0</td>\n",
       "      <td>1.0</td>\n",
       "      <td>Mickey Lolich</td>\n",
       "    </tr>\n",
       "    <tr>\n",
       "      <th>wynnea01</th>\n",
       "      <td>1.0</td>\n",
       "      <td>0.0</td>\n",
       "      <td>Early Wynn</td>\n",
       "    </tr>\n",
       "    <tr>\n",
       "      <th>wilheho01</th>\n",
       "      <td>1.0</td>\n",
       "      <td>0.0</td>\n",
       "      <td>Hoyt Wilhelm</td>\n",
       "    </tr>\n",
       "    <tr>\n",
       "      <th>clemero02</th>\n",
       "      <td>0.0</td>\n",
       "      <td>1.0</td>\n",
       "      <td>Roger Clemens</td>\n",
       "    </tr>\n",
       "  </tbody>\n",
       "</table>\n",
       "</div>"
      ],
      "text/plain": [
       "           inducted  predicted             name\n",
       "player_id                                      \n",
       "pennohe01       1.0        0.0     Herb Pennock\n",
       "bunniji01       0.0        1.0      Jim Bunning\n",
       "passecl01       0.0        1.0   Claude Passeau\n",
       "stottme01       0.0        1.0  Mel Stottlemyre\n",
       "lyonste01       1.0        0.0        Ted Lyons\n",
       "stiebda01       0.0        1.0       Dave Stieb\n",
       "wadderu01       0.0        1.0     Rube Waddell\n",
       "tiantlu01       0.0        1.0       Luis Tiant\n",
       "vanceda01       1.0        0.0      Dazzy Vance\n",
       "lolicmi01       0.0        1.0    Mickey Lolich\n",
       "wynnea01        1.0        0.0       Early Wynn\n",
       "wilheho01       1.0        0.0     Hoyt Wilhelm\n",
       "clemero02       0.0        1.0    Roger Clemens"
      ]
     },
     "execution_count": 2,
     "metadata": {},
     "output_type": "execute_result"
    }
   ],
   "source": [
    "wrong_pitchers = pitch_historical[pitch_historical.inducted != pitch_historical.predicted]\n",
    "wrong_pitchers = wrong_pitchers.merge(players[['name']], left_index = True, right_index = True)\n",
    "wrong_pitchers"
   ]
  },
  {
   "cell_type": "code",
   "execution_count": 3,
   "metadata": {},
   "outputs": [
    {
     "ename": "NameError",
     "evalue": "name 'wrong_players' is not defined",
     "output_type": "error",
     "traceback": [
      "\u001b[0;31m---------------------------------------------------------------------------\u001b[0m",
      "\u001b[0;31mNameError\u001b[0m                                 Traceback (most recent call last)",
      "\u001b[0;32m<ipython-input-3-2cb693dfb4fc>\u001b[0m in \u001b[0;36m<module>\u001b[0;34m()\u001b[0m\n\u001b[0;32m----> 1\u001b[0;31m \u001b[0mwrong_pitchers\u001b[0m \u001b[0;34m=\u001b[0m \u001b[0mplayers\u001b[0m\u001b[0;34m[\u001b[0m\u001b[0;34m[\u001b[0m\u001b[0;34m'name'\u001b[0m\u001b[0;34m]\u001b[0m\u001b[0;34m]\u001b[0m\u001b[0;34m.\u001b[0m\u001b[0mmerge\u001b[0m\u001b[0;34m(\u001b[0m\u001b[0mpitchers\u001b[0m\u001b[0;34m.\u001b[0m\u001b[0mmerge\u001b[0m\u001b[0;34m(\u001b[0m\u001b[0mwrong_players\u001b[0m\u001b[0;34m[\u001b[0m\u001b[0;34m[\u001b[0m\u001b[0;34m'predicted'\u001b[0m\u001b[0;34m]\u001b[0m\u001b[0;34m]\u001b[0m\u001b[0;34m,\u001b[0m                         \u001b[0mleft_index\u001b[0m \u001b[0;34m=\u001b[0m \u001b[0;32mTrue\u001b[0m\u001b[0;34m,\u001b[0m \u001b[0mright_index\u001b[0m \u001b[0;34m=\u001b[0m \u001b[0;32mTrue\u001b[0m\u001b[0;34m)\u001b[0m\u001b[0;34m,\u001b[0m                         \u001b[0mleft_index\u001b[0m \u001b[0;34m=\u001b[0m \u001b[0;32mTrue\u001b[0m\u001b[0;34m,\u001b[0m \u001b[0mright_index\u001b[0m \u001b[0;34m=\u001b[0m \u001b[0;32mTrue\u001b[0m\u001b[0;34m)\u001b[0m\u001b[0;34m\u001b[0m\u001b[0m\n\u001b[0m",
      "\u001b[0;31mNameError\u001b[0m: name 'wrong_players' is not defined"
     ]
    }
   ],
   "source": [
    "wrong_pitchers = players[['name']].merge(pitchers.merge(wrong_players[['predicted']], \\\n",
    "                        left_index = True, right_index = True), \\\n",
    "                        left_index = True, right_index = True)"
   ]
  },
  {
   "cell_type": "code",
   "execution_count": null,
   "metadata": {},
   "outputs": [],
   "source": [
    "pitcher_hof = pitch_historical[pitch_historical.inducted == 1]\n",
    "pitcher_hof = pitchers.merge(pitcher_hof[['predicted']], left_index = True, right_index = True)\n",
    "hof_pitchers = players[['name']].merge(pitcher_hof, left_index = True, right_index = True)\n",
    "hof_pitchers"
   ]
  },
  {
   "cell_type": "markdown",
   "metadata": {},
   "source": [
    "### Pitchers: false negatives"
   ]
  },
  {
   "cell_type": "markdown",
   "metadata": {},
   "source": [
    "As we can see from this, out of the Hall of Fame pitchers the mispredicted ones typically had higher ERAs/WHIPs, and perhaps the one questionable exception is Hoyt Wilhelm."
   ]
  },
  {
   "cell_type": "code",
   "execution_count": null,
   "metadata": {},
   "outputs": [],
   "source": [
    "sns.set()\n",
    "sns.lmplot(data = hof_pitchers, x = 'ERA', y = 'WHIP', hue = 'predicted', truncate = True)"
   ]
  },
  {
   "cell_type": "code",
   "execution_count": null,
   "metadata": {},
   "outputs": [],
   "source": [
    "fn_pitchers = pd.DataFrame(hof_pitchers[hof_pitchers.inducted != hof_pitchers.predicted])\n",
    "fn_pitchers.drop(labels = ['ipouts', 'h', 'er', 'hr', 'inducted'], axis = 1, inplace = True)\n",
    "fn_pitchers"
   ]
  },
  {
   "cell_type": "code",
   "execution_count": null,
   "metadata": {},
   "outputs": [],
   "source": [
    "hof_pitchers.groupby('predicted').mean()[['w', 'l', 'so', 'BB', 'ERA', 'WHIP', 'BAA', 'K/9', 'BB/9', 'K/BB', 'VOTE%']]"
   ]
  },
  {
   "cell_type": "markdown",
   "metadata": {},
   "source": [
    "If we look at these players, we can see that the majority of them had higher ERAs, BAAs than the average inductee, stats that may suggest less dominance. Typically, they also had fewer wins, even though number of losses was approximately similar. Moreover, they tended to have been less sure-fire votes, outside of Ted Lyons, who finished his career back in 1945.\n",
    "\n",
    "Poor Hoyt Wilhelm had a powerful pedigree as a pitcher, but interestingly in terms of the cumulative metrics often used to evaluate pitchers, performs only decently in each. He lacks the wins to be a \"stellar\" starting pitcher, or the saves to be as so for a reliever. The powerful versatility he would have brought to a team could justify his inclusion, but for the sake of classification here, he is incorrectly omitted.\n",
    "\n",
    "Early Wynn, the other interesting example, had 300 wins but just barely was voted in - and was mispredicted here. The high number of losses and high walk count likely hurt him, despite his Cy Young Award and 9x All-Star selection. An alternative difference could be his \"late-bloomer status\" - Wynn didn't get his second midseason recongition until on the worse side of 30. [Baseball-Reference: Early Wynn](https://www.baseball-reference.com/players/w/wynnea01.shtml)"
   ]
  },
  {
   "cell_type": "markdown",
   "metadata": {},
   "source": [
    "### Pitchers: false positives"
   ]
  },
  {
   "cell_type": "code",
   "execution_count": null,
   "metadata": {},
   "outputs": [],
   "source": [
    "pitching_metrics.head()"
   ]
  },
  {
   "cell_type": "code",
   "execution_count": null,
   "metadata": {},
   "outputs": [],
   "source": [
    "fp_pitchers = wrong_pitchers[wrong_pitchers.inducted == 0]\n",
    "fp_pitchers = fp_pitchers[['name', 'w', 'l', 'so', 'BB', 'ERA', 'WHIP', 'BAA', 'K/9', 'BB/9', 'K/BB', 'VOTE%']]\n",
    "fp_pitchers = pitching_metrics[['seasons_played', 'All-Star', 'TripleCrown', 'CYA', '3000K', '300W', '300SV']].merge(fp_pitchers, left_index = True, right_index = True)\n",
    "fp_pitchers"
   ]
  },
  {
   "cell_type": "markdown",
   "metadata": {},
   "source": [
    "In order to determine the number of mispredictions, we first have to look at the other dataset: non-BBWAA votes."
   ]
  },
  {
   "cell_type": "code",
   "execution_count": null,
   "metadata": {
    "scrolled": false
   },
   "outputs": [],
   "source": [
    "hof_noBBWAA = hof_vote[['votedby', 'inducted']]\n",
    "hof_noBBWAA = hof_noBBWAA[hof_noBBWAA.votedby != 'BBWAA']\n",
    "fp_pitchers.merge(hof_noBBWAA, left_index = True, right_index = True)"
   ]
  },
  {
   "cell_type": "markdown",
   "metadata": {},
   "source": [
    "From this, we can see that Rube Waddell and Jim Bunning were actually inducted into the Hall of Fame, except not through the BBWAA vote. The others' relatively good cumulative metrics may have resulted in their false positive classification, although this indicates the model was undervaluing the All-Star and Cy Young selections in voting. In the actual votes, often this is a question that is brought up (it has been used to question Andy Pettitte's candidacy, in fact).\n",
    "\n",
    "Roger Clemens by statistics should be a surefire Hall-of-Famer, but he is a relatively unsurprising omission, due to the association with PEDs."
   ]
  },
  {
   "cell_type": "markdown",
   "metadata": {},
   "source": [
    "### Pitchers: visualizations\n",
    "More data visualizations to compare Hall of Fame and non Hall of Fame groups"
   ]
  },
  {
   "cell_type": "code",
   "execution_count": null,
   "metadata": {
    "scrolled": false
   },
   "outputs": [],
   "source": [
    "pitchers_complete = pitchers.merge(pitch_historical[['predicted']], left_index = True, right_index = True)\n",
    "pitchers_complete = players[['name']].merge(pitchers_complete, left_index = True, right_index = True)\n",
    "pitchers_complete.head()"
   ]
  },
  {
   "cell_type": "markdown",
   "metadata": {},
   "source": [
    "As we can see, Hall of Fame Pitchers tend to have lower ERAs, higher strikeouts, and lower WHIPs than your typical players. That's not particularly surprising"
   ]
  },
  {
   "cell_type": "code",
   "execution_count": null,
   "metadata": {},
   "outputs": [],
   "source": [
    "sns.set()\n",
    "sns.lmplot(data = pitchers_complete, x = 'ERA', y = 'so', hue = 'inducted', \\\n",
    "           truncate = True, fit_reg=False, size = 5, \\\n",
    "           palette={1: \"#000080\", 0:\"#ff6961\"})\n",
    "sns.lmplot(data = pitchers_complete, x = 'ERA', y = 'WHIP', hue = 'inducted', \\\n",
    "           truncate = True, fit_reg=False, size = 5, \\\n",
    "           palette={1: \"#000080\", 0:\"#ff6961\"})"
   ]
  },
  {
   "cell_type": "markdown",
   "metadata": {},
   "source": [
    "Unsurprisingly, higher wins and shutouts correlated to higher induction, while it is inverse for ERA/WHIP/BAA - to be expected given that lower values in the latter categories signify dominance. What is also interesting to note is how saves appear \"inversely correlated\"; however, this is likely due to the dominance of starting pitchers in this group. Separating to relief pitchers alone would likely reverse this potential trend.\n",
    "\n",
    "Having higher hits, strikeouts, and walks is also correlated - the first and last of these is probably explained by how successful pitchers get more opportunities over time, leading to more innings and this natural positive correlation."
   ]
  },
  {
   "cell_type": "code",
   "execution_count": null,
   "metadata": {},
   "outputs": [],
   "source": [
    "# correlations between certain statistics\n",
    "pitchers_complete_corr = pitchers_complete.copy()\n",
    "pitchers_complete_corr.drop(labels = ['name', 'g', 'l', 'ipouts', 'er', 'hr', 'K/BB', 'BB/9', 'VOTE%', 'predicted'], inplace = True, axis = 1)\n",
    "f, ax = plt.subplots()\n",
    "f.set_size_inches(10, 7)\n",
    "sns.heatmap(pitchers_complete_corr.corr())"
   ]
  },
  {
   "cell_type": "markdown",
   "metadata": {},
   "source": [
    "When we compare the distributions of some of our key statistics for pitchers, it becomes very clear that Hall of Fame pitchers have significant dominance over the rest of the field. Lower ERAs, higher strikeouts, lower WHIPs, and higher win counts are consistent - and often these are significantly better than the typical performance of a pitcher. Although there is overlap between a Hall of Fame category and a really good general pitcher - which makes our classification job more difficult - it is pretty easy to see that there is a clear performance/ability difference.\n",
    "\n",
    "Similarly here, separating by relievers and starters would likely show us even greater disparity between what is a typical pitcher and the best of the best."
   ]
  },
  {
   "cell_type": "code",
   "execution_count": null,
   "metadata": {},
   "outputs": [],
   "source": [
    "# distribution map\n",
    "f.set_size_inches(10, 7)\n",
    "pairplot_pitchers = pitchers_complete_corr[['w', 'so', 'ERA', 'WHIP', 'inducted']]\n",
    "sns.pairplot(pairplot_pitchers, kind=\"scatter\", hue = 'inducted', palette=\"Set2\")"
   ]
  },
  {
   "cell_type": "markdown",
   "metadata": {},
   "source": [
    "### Pitchers: prediction\n",
    "Here, let's remove Rube Waddell first, as we have seen he is eventually inducted into the Hall of Fame through the Veterans vote. We also remove Roger Clemens as we discussed above.\n",
    "\n",
    "Still, we have several omissions that are unexpected: Justin Verlander, K-Rod, Max Scherzer, Clayton Kershaw. This can be seen through examining the pitch_active dataset."
   ]
  },
  {
   "cell_type": "code",
   "execution_count": null,
   "metadata": {
    "scrolled": false
   },
   "outputs": [],
   "source": [
    "pitch_active.sort_values(by = ['All-Star'], inplace = True, ascending = False)\n",
    "pitcher_future_hof = pitch_active[pitch_active.prediction == 1]\n",
    "pitcher_future_hof.drop(labels = ['clemero02', 'wadderu01'], axis = 0, inplace = True)"
   ]
  },
  {
   "cell_type": "code",
   "execution_count": null,
   "metadata": {},
   "outputs": [],
   "source": [
    "# statistics\n",
    "hof_pitchers_future"
   ]
  },
  {
   "cell_type": "code",
   "execution_count": null,
   "metadata": {},
   "outputs": [],
   "source": [
    "# concatenating to statistics\n",
    "pitcher_future_hof = pitchers.merge(pitcher_future_hof[['prediction']], left_index = True, right_index = True)\n",
    "hof_pitchers_future = players[['name']].merge(pitcher_future_hof, left_index = True, right_index = True)\n",
    "hof_pitchers_future.rename({'prediciton': 'predicted'}, axis = 1, inplace = True)\n",
    "\n",
    "# present and future\n",
    "pitch_predict = pd.concat([hof_pitchers, hof_pitchers_future], axis = 0, sort = True)\n",
    "\n",
    "sns.set()\n",
    "f, (ax1, ax2) = plt.subplots(1, 2)\n",
    "f.set_size_inches(10, 5)\n",
    "sns.stripplot(data = pitch_predict, x = 'ERA', y = 'WHIP', hue = 'inducted', size = 5, \\\n",
    "           palette={1: \"#000080\", 0:\"#ff6961\"}, ax = ax1)\n",
    "sns.stripplot(data = pitch_predict, x = 'ERA', y = 'so', hue = 'inducted', size = 5, \\\n",
    "           palette={1: \"#000080\", 0:\"#ff6961\"}, ax = ax2)\n",
    "ax1.set_xticks(np.arange(1,16,4))\n",
    "for i in [ax1, ax2]:\n",
    "    i.set_xticks(np.arange(0,50,5))\n",
    "    ()\n"
   ]
  },
  {
   "cell_type": "markdown",
   "metadata": {},
   "source": [
    "In terms of statistical performance, C.C. Sabathia, Johan Santana, and Mark Buerhle are in the most danger. Buerhle was never really regarded as a standout pitcher, and failed to have the stretch of dominance that other Hall of Famers enjoyed despite being consistently solid. C.C. may be hurt my some older-age regression (although that isn't included fully in this dataset) as well, but his career WAR numbers and potentially future World Series titles could boost his case.\n",
    "\n",
    "Johan Santana is similarly unlikely to qualify in the end, due to his relatively short-lived career. Billy Wagner has failed to reach the Hall of Fame vote threshold for several years, actually, despite his statistical excellence - a lack of innings pitched, for example, may have been a limiting factor despite over 400 saves and a nearly 12 K/9 rate. [SI: Billy Wagner](https://www.si.com/mlb/2016/12/19/jaws-2017-hall-of-fame-ballot-billy-wagner), [MLB: Billy Wagner](https://www.mlb.com/news/billy-wagner-on-hall-of-fame-ballot/c-156876028).\n",
    "\n",
    "The others in this group, however, seem to be strong candidates. Hoffman has already been elected; Halladay is widely expected to qualify for the Hall of Fame, and has been regarded as the best of his generation [538: Roy Halladay](https://fivethirtyeight.com/features/roy-halladay-was-the-greatest-pitcher-of-his-generation/). \n",
    "\n",
    "Price and Hernandez had dominant careers and in their 30+ years can make a stronger case by avoiding the same regression. Mariano Rivera, by comparison, is widely regarded as the most dominant closer of all time - and it wouldn't be surprising that the discussion should be more about whether he becomes the first unanimous vote, rather than if he is voted in."
   ]
  },
  {
   "cell_type": "markdown",
   "metadata": {},
   "source": [
    "### Pitchers: missing predictions\n",
    "Let's look at some of the more dominant pitchers as of late who were not predicted to make the Hall of Fame here:  Justin Verlander, Francisco Rodriguez, Max Scherzer, Clayton Kershaw, Adam Wainwright, Zack Greinke, Chris Sale, Corey Kluber.\n",
    "\n",
    "Of these players: Kluber, Sale, Scherzer, and Kershaw aren't actually in the dataset. Let's look at the stats up until 2015 for these other players."
   ]
  },
  {
   "cell_type": "code",
   "execution_count": null,
   "metadata": {},
   "outputs": [],
   "source": [
    "missing = ['verlaju01', 'rodrifr03', 'wainwad01', 'greinza01']\n",
    "four_missing_pitchers = pitchers.loc[missing]\n",
    "four_missing_pitchers = four_missing_pitchers[['w', 'l', 'so', 'BB', 'ERA', 'WHIP', 'BAA', 'K/9', 'BB/9', 'K/BB']]\n",
    "hof_averages = pd.DataFrame({'HOF_mean': hof_pitchers.mean()[['w', 'l', 'so', 'BB', 'ERA', 'WHIP', \\\n",
    "                                                              'BAA', 'K/9', 'BB/9', 'K/BB']], \\\n",
    "                            'HOF_std': hof_pitchers.std()[['w', 'l', 'so', 'BB', 'ERA', 'WHIP', \\\n",
    "                                                           'BAA', 'K/9', 'BB/9', 'K/BB']]}).T\n",
    "pitching_comparison = pd.concat([four_missing_pitchers, hof_averages], axis = 0).T\n",
    "pitching_comparison['plus'] = pitching_comparison['HOF_mean'] + pitching_comparison['HOF_std']\n",
    "pitching_comparison['minus'] = pitching_comparison['HOF_mean'] - pitching_comparison['HOF_std']\n",
    "pitching_comparison.T"
   ]
  },
  {
   "cell_type": "markdown",
   "metadata": {},
   "source": [
    "Perhaps it's simply that these players haven't finished full careers, so they are undervalued because they haven't had the same number of saves, wins, strikeouts, etc. as the retirees may have. From a summary-stat perspective such as ERA or WHIP, they generally seem fine, with the possible exception of Verlander and Greinke who both had several \"down-seasons\" with higher run-scoring. Let's look at a histogram of wins and ERAs."
   ]
  },
  {
   "cell_type": "code",
   "execution_count": null,
   "metadata": {},
   "outputs": [],
   "source": [
    "fig, ax = plt.subplots()\n",
    "sns.distplot(hof_pitchers['w'], bins = 20, kde=True, rug=False, ax = ax, label = 'HOF')\n",
    "sns.distplot(four_missing_pitchers['w'], bins = 4, kde=True, rug=False, ax = ax, label = 'Current Stars')\n",
    "sns.distplot(fp_pitchers['w'], bins = 8, kde=True, rug=False, ax = ax, label = 'False Positives')\n",
    "ax.legend()"
   ]
  },
  {
   "cell_type": "code",
   "execution_count": null,
   "metadata": {},
   "outputs": [],
   "source": [
    "fig, ax = plt.subplots()\n",
    "sns.distplot(hof_pitchers['so'], bins = 20, kde=True, rug=False, ax = ax, label = 'HOF')\n",
    "sns.distplot(four_missing_pitchers['so'], bins = 4, kde=True, rug=False, ax = ax, label = 'Current Stars')\n",
    "sns.distplot(fp_pitchers['so'], bins = 8, kde=True, rug=False, ax = ax, label = 'False Positives')\n",
    "ax.legend()"
   ]
  },
  {
   "cell_type": "markdown",
   "metadata": {},
   "source": [
    "As we can see, our distributions of wins and strikeouts have lower means than even the false-predicted Hall of Famers, who in turn don't match up on par with the typical HOF performance. Although all sets have closers/relievers in them, they are dominated by starters, so we have not directly removed the relivers (but maybe should have, to avoid being so lazy). This seems to suggest that there isn't anything wrong with these players' performances, just that they have to keep it up and rack up the numbers.\n",
    "\n",
    "We can look at ERA/WHIP/K-per-9 to further validate this belief:"
   ]
  },
  {
   "cell_type": "code",
   "execution_count": null,
   "metadata": {},
   "outputs": [],
   "source": [
    "f, (ax1, ax2, ax3) = plt.subplots(1, 3)\n",
    "f.set_size_inches(20, 5)\n",
    "sns.distplot(hof_pitchers['ERA'], bins = 20, kde=True, rug=False, ax = ax1, label = 'HOF')\n",
    "sns.distplot(four_missing_pitchers['ERA'], bins = 4, kde=True, rug=False, ax = ax1, label = 'Current Stars')\n",
    "sns.distplot(hof_pitchers_future['ERA'], bins = 8, kde=True, rug=False, ax = ax1, label = 'Future Inductees')\n",
    "ax1.legend()\n",
    "ax1.set_title('ERA')\n",
    "\n",
    "sns.distplot(hof_pitchers['WHIP'], bins = 20, kde=True, rug=False, ax = ax2, label = 'HOF')\n",
    "sns.distplot(four_missing_pitchers['WHIP'], bins = 4, kde=True, rug=False, ax = ax2, label = 'Current Stars')\n",
    "sns.distplot(hof_pitchers_future['WHIP'], bins = 8, kde=True, rug=False, ax = ax2, label = 'Future Inductees')\n",
    "ax2.legend()\n",
    "ax2.set_title('WHIP')\n",
    "\n",
    "sns.distplot(hof_pitchers['K/9'], bins = 20, kde=True, rug=False, ax = ax3, label = 'HOF')\n",
    "sns.distplot(four_missing_pitchers['K/9'], bins = 4, kde=True, rug=False, ax = ax3, label = 'Current Stars')\n",
    "sns.distplot(hof_pitchers_future['K/9'], bins = 8, kde=True, rug=False, ax = ax3, label = 'Future Inductees')\n",
    "ax3.legend()\n",
    "ax3.set_title('K/9')"
   ]
  },
  {
   "cell_type": "markdown",
   "metadata": {},
   "source": [
    "In fact, by their 2015 statistics, these four players on average were striking out players at a better rate than even the Hall of Fame. Their performance is generally on par with the future inductees we had (Halladay, Rivera, etc.), albeit slightly poorer. Even then, this comparison shows that they have had Hall-worthy performance. Even if that has yet to accumulate enough, they're likely to be future inductees."
   ]
  },
  {
   "cell_type": "markdown",
   "metadata": {},
   "source": [
    "## Concessions\n",
    "There are numerous potential issues with the analysis and classification that must be addressed:\n",
    "1. Hall of Fame voting is non-stationary; the model assumes voting is consistent through over 60 years of different commitees. This simplifes our analysis greatly but is a fundamental flaw in the approach, used to get more data.\n",
    "2. The models were trained solely on BBWAA voting, even though many of the current Hall of Fame members (including some that were mispredicted here) were voted in by other means.\n",
    "3. Out of sample/test data fit is less indicative in this matter because of the overwhelmingly greater proportion of people who failed to make it to the Hall of Fame\n",
    "4. Not all statistics have been adequately recorded, and the ways that awards were given out differed greatly over the years.\n",
    "5. The players themselves changed characteristics over the years; an interesting analysis would be to look at the seasonal averages over time of different baseball traits.\n",
    "6. Players were not grouped by position, or by category outside of batter/pitcher (ex: starter/reliever). This finite segmentation could lead to more effective models due to the differences that would ensue among groups in the data. Potentially clustering could have been done before that.\n",
    "7. Reputation was not taken into effect in any of these cases; steroids are a key issue that have hurt many players' candidacies, but we did not have data for it.\n",
    "8. Data is only up to the 2015 season, meaning my own intuition is limited to before then. Moreover, any recent stars such as Clayton Kershaw and Max Scherzer aren't included in predicting Hall of Famers because they just recently made their debuts back in that time.\n",
    "9. There was very little pitcher data to validate the model on. Hold-outs could have been used alternatively; instead of Trevor Hoffman being the only out-of-sample example.\n",
    "10. Classification of the model varied significantly with the model used - even slight changes in the model such as level of a decision tree would drastically impact the predictions."
   ]
  },
  {
   "cell_type": "markdown",
   "metadata": {},
   "source": [
    "## Reflections\n",
    "Working with baseball data was fun and rewarding, between creating features such as our aggregate measures, reducing dimensionality and scaling of the data, and then this final analysis part with predicting future players. As this stands, the hitter model is incomplete even if the pitcher one is. The difficulties seen in this dataset are relatively expected, however - baseball is known for being a highly quantified sport, especially with the recent success of sabermetric-based teams like the Astros (and Billy Beane's Moneyball, the original spark of interest for baseball statistics to me), and more data will increase complexity.\n",
    "\n",
    "Thank you to Kaggle, Sean Lahman and his dataset for providing this wealth of information. Future analysis could be to extend the prediction period, scale performance by season to avoid penalizing players with fewer seasons of experience (especially in forward-looking predictions), finite classes within the pitcher/batter categories, and reduction of the training timeframe to have a more modern BBWAA's voting used."
   ]
  },
  {
   "cell_type": "code",
   "execution_count": null,
   "metadata": {},
   "outputs": [],
   "source": []
  }
 ],
 "metadata": {
  "kernelspec": {
   "display_name": "Python 3",
   "language": "python",
   "name": "python3"
  },
  "language_info": {
   "codemirror_mode": {
    "name": "ipython",
    "version": 3
   },
   "file_extension": ".py",
   "mimetype": "text/x-python",
   "name": "python",
   "nbconvert_exporter": "python",
   "pygments_lexer": "ipython3",
   "version": "3.6.3"
  }
 },
 "nbformat": 4,
 "nbformat_minor": 2
}
